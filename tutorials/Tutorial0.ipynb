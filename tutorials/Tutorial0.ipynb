{
 "cells": [
  {
   "cell_type": "markdown",
   "metadata": {},
   "source": [
    "All the Jupyter Notebooks are available at https://github.com/neuro-ml/dpipe_tutorial"
   ]
  },
  {
   "cell_type": "markdown",
   "metadata": {},
   "source": [
    "# Tutorials on Deep Pipe"
   ]
  },
  {
   "cell_type": "markdown",
   "metadata": {},
   "source": [
    "The tutorials introduce the library called **Deep Pipe**, which is useful for medical image analysis, including preprocessing, data augmentation, performance validation and final prediction."
   ]
  },
  {
   "cell_type": "markdown",
   "metadata": {},
   "source": [
    "## Tutorial 0: Introduction to Deep Pipe"
   ]
  },
  {
   "cell_type": "markdown",
   "metadata": {},
   "source": [
    "As the first step, we get familiar with the lib, import it and try to work with one MRI image dataset from Brats 2017 competition."
   ]
  },
  {
   "cell_type": "markdown",
   "metadata": {},
   "source": [
    "### Imports:"
   ]
  },
  {
   "cell_type": "code",
   "execution_count": 1,
   "metadata": {
    "collapsed": true
   },
   "outputs": [],
   "source": [
    "import numpy as np\n",
    "import pandas as pd\n",
    "import matplotlib.pyplot as plt\n",
    "%matplotlib inline\n",
    "\n",
    "# import deep pipe library\n",
    "# how to install: https://github.com/neuro-ml/deep_pipe/blob/master/README.md\n",
    "import dpipe"
   ]
  },
  {
   "cell_type": "markdown",
   "metadata": {},
   "source": [
    "### Class `Brats2017`"
   ]
  },
  {
   "cell_type": "markdown",
   "metadata": {},
   "source": [
    "Import a special class to work with the `Brats2017` dataset: "
   ]
  },
  {
   "cell_type": "code",
   "execution_count": 2,
   "metadata": {
    "collapsed": true
   },
   "outputs": [],
   "source": [
    "from dpipe.dataset.brats import Brats2017"
   ]
  },
  {
   "cell_type": "markdown",
   "metadata": {},
   "source": [
    "To create an instance of the class we have to pass two parameters: `data_path` and `metadate_rpath`.  \n",
    "\n",
    "*The examples of the input arguments can be found at https://github.com/neuro-ml/deep_pipe/blob/master/config_examples/assets/data_source/.*\n",
    "\n",
    "**Note:** We are using IITP machine with stored Brats dataset:\n",
    "https://github.com/neuro-ml/deep_pipe/blob/master/config_examples/assets/data_source/iitp/brats.config"
   ]
  },
  {
   "cell_type": "code",
   "execution_count": 3,
   "metadata": {
    "collapsed": true
   },
   "outputs": [],
   "source": [
    "dataset = Brats2017(data_path = \"/nmnt/t01-ssd/brats2017/train\", metadata_rpath = \"metadata.csv\")"
   ]
  },
  {
   "cell_type": "markdown",
   "metadata": {},
   "source": [
    "### Let's look at the available methods and attributes:"
   ]
  },
  {
   "cell_type": "markdown",
   "metadata": {},
   "source": [
    "We can take a look at the loaded metadata: it has index column `id`, paths to images with different modalities `t1`, `t1ce`, ... . Also, it contains the column with the path to the target segmented image: `segm`."
   ]
  },
  {
   "cell_type": "code",
   "execution_count": 4,
   "metadata": {},
   "outputs": [
    {
     "data": {
      "text/html": [
       "<div>\n",
       "<style>\n",
       "    .dataframe thead tr:only-child th {\n",
       "        text-align: right;\n",
       "    }\n",
       "\n",
       "    .dataframe thead th {\n",
       "        text-align: left;\n",
       "    }\n",
       "\n",
       "    .dataframe tbody tr th {\n",
       "        vertical-align: top;\n",
       "    }\n",
       "</style>\n",
       "<table border=\"1\" class=\"dataframe\">\n",
       "  <thead>\n",
       "    <tr style=\"text-align: right;\">\n",
       "      <th></th>\n",
       "      <th>cancer_type</th>\n",
       "      <th>age</th>\n",
       "      <th>survival_days</th>\n",
       "      <th>survival_class</th>\n",
       "      <th>t1</th>\n",
       "      <th>t1ce</th>\n",
       "      <th>t2</th>\n",
       "      <th>flair</th>\n",
       "      <th>segm</th>\n",
       "    </tr>\n",
       "    <tr>\n",
       "      <th>id</th>\n",
       "      <th></th>\n",
       "      <th></th>\n",
       "      <th></th>\n",
       "      <th></th>\n",
       "      <th></th>\n",
       "      <th></th>\n",
       "      <th></th>\n",
       "      <th></th>\n",
       "      <th></th>\n",
       "    </tr>\n",
       "  </thead>\n",
       "  <tbody>\n",
       "    <tr>\n",
       "      <th>Brats17_2013_0_1</th>\n",
       "      <td>LGG</td>\n",
       "      <td>NaN</td>\n",
       "      <td>NaN</td>\n",
       "      <td>NaN</td>\n",
       "      <td>LGG/Brats17_2013_0_1/Brats17_2013_0_1_t1.nii.gz</td>\n",
       "      <td>LGG/Brats17_2013_0_1/Brats17_2013_0_1_t1ce.nii.gz</td>\n",
       "      <td>LGG/Brats17_2013_0_1/Brats17_2013_0_1_t2.nii.gz</td>\n",
       "      <td>LGG/Brats17_2013_0_1/Brats17_2013_0_1_flair.ni...</td>\n",
       "      <td>LGG/Brats17_2013_0_1/Brats17_2013_0_1_seg.nii.gz</td>\n",
       "    </tr>\n",
       "    <tr>\n",
       "      <th>Brats17_2013_10_1</th>\n",
       "      <td>HGG</td>\n",
       "      <td>NaN</td>\n",
       "      <td>NaN</td>\n",
       "      <td>NaN</td>\n",
       "      <td>HGG/Brats17_2013_10_1/Brats17_2013_10_1_t1.nii.gz</td>\n",
       "      <td>HGG/Brats17_2013_10_1/Brats17_2013_10_1_t1ce.n...</td>\n",
       "      <td>HGG/Brats17_2013_10_1/Brats17_2013_10_1_t2.nii.gz</td>\n",
       "      <td>HGG/Brats17_2013_10_1/Brats17_2013_10_1_flair....</td>\n",
       "      <td>HGG/Brats17_2013_10_1/Brats17_2013_10_1_seg.ni...</td>\n",
       "    </tr>\n",
       "    <tr>\n",
       "      <th>Brats17_2013_11_1</th>\n",
       "      <td>HGG</td>\n",
       "      <td>29.12</td>\n",
       "      <td>150.0</td>\n",
       "      <td>0.0</td>\n",
       "      <td>HGG/Brats17_2013_11_1/Brats17_2013_11_1_t1.nii.gz</td>\n",
       "      <td>HGG/Brats17_2013_11_1/Brats17_2013_11_1_t1ce.n...</td>\n",
       "      <td>HGG/Brats17_2013_11_1/Brats17_2013_11_1_t2.nii.gz</td>\n",
       "      <td>HGG/Brats17_2013_11_1/Brats17_2013_11_1_flair....</td>\n",
       "      <td>HGG/Brats17_2013_11_1/Brats17_2013_11_1_seg.ni...</td>\n",
       "    </tr>\n",
       "    <tr>\n",
       "      <th>Brats17_2013_12_1</th>\n",
       "      <td>HGG</td>\n",
       "      <td>NaN</td>\n",
       "      <td>NaN</td>\n",
       "      <td>NaN</td>\n",
       "      <td>HGG/Brats17_2013_12_1/Brats17_2013_12_1_t1.nii.gz</td>\n",
       "      <td>HGG/Brats17_2013_12_1/Brats17_2013_12_1_t1ce.n...</td>\n",
       "      <td>HGG/Brats17_2013_12_1/Brats17_2013_12_1_t2.nii.gz</td>\n",
       "      <td>HGG/Brats17_2013_12_1/Brats17_2013_12_1_flair....</td>\n",
       "      <td>HGG/Brats17_2013_12_1/Brats17_2013_12_1_seg.ni...</td>\n",
       "    </tr>\n",
       "    <tr>\n",
       "      <th>Brats17_2013_13_1</th>\n",
       "      <td>HGG</td>\n",
       "      <td>NaN</td>\n",
       "      <td>NaN</td>\n",
       "      <td>NaN</td>\n",
       "      <td>HGG/Brats17_2013_13_1/Brats17_2013_13_1_t1.nii.gz</td>\n",
       "      <td>HGG/Brats17_2013_13_1/Brats17_2013_13_1_t1ce.n...</td>\n",
       "      <td>HGG/Brats17_2013_13_1/Brats17_2013_13_1_t2.nii.gz</td>\n",
       "      <td>HGG/Brats17_2013_13_1/Brats17_2013_13_1_flair....</td>\n",
       "      <td>HGG/Brats17_2013_13_1/Brats17_2013_13_1_seg.ni...</td>\n",
       "    </tr>\n",
       "  </tbody>\n",
       "</table>\n",
       "</div>"
      ],
      "text/plain": [
       "                  cancer_type    age  survival_days  survival_class  \\\n",
       "id                                                                    \n",
       "Brats17_2013_0_1          LGG    NaN            NaN             NaN   \n",
       "Brats17_2013_10_1         HGG    NaN            NaN             NaN   \n",
       "Brats17_2013_11_1         HGG  29.12          150.0             0.0   \n",
       "Brats17_2013_12_1         HGG    NaN            NaN             NaN   \n",
       "Brats17_2013_13_1         HGG    NaN            NaN             NaN   \n",
       "\n",
       "                                                                  t1  \\\n",
       "id                                                                     \n",
       "Brats17_2013_0_1     LGG/Brats17_2013_0_1/Brats17_2013_0_1_t1.nii.gz   \n",
       "Brats17_2013_10_1  HGG/Brats17_2013_10_1/Brats17_2013_10_1_t1.nii.gz   \n",
       "Brats17_2013_11_1  HGG/Brats17_2013_11_1/Brats17_2013_11_1_t1.nii.gz   \n",
       "Brats17_2013_12_1  HGG/Brats17_2013_12_1/Brats17_2013_12_1_t1.nii.gz   \n",
       "Brats17_2013_13_1  HGG/Brats17_2013_13_1/Brats17_2013_13_1_t1.nii.gz   \n",
       "\n",
       "                                                                t1ce  \\\n",
       "id                                                                     \n",
       "Brats17_2013_0_1   LGG/Brats17_2013_0_1/Brats17_2013_0_1_t1ce.nii.gz   \n",
       "Brats17_2013_10_1  HGG/Brats17_2013_10_1/Brats17_2013_10_1_t1ce.n...   \n",
       "Brats17_2013_11_1  HGG/Brats17_2013_11_1/Brats17_2013_11_1_t1ce.n...   \n",
       "Brats17_2013_12_1  HGG/Brats17_2013_12_1/Brats17_2013_12_1_t1ce.n...   \n",
       "Brats17_2013_13_1  HGG/Brats17_2013_13_1/Brats17_2013_13_1_t1ce.n...   \n",
       "\n",
       "                                                                  t2  \\\n",
       "id                                                                     \n",
       "Brats17_2013_0_1     LGG/Brats17_2013_0_1/Brats17_2013_0_1_t2.nii.gz   \n",
       "Brats17_2013_10_1  HGG/Brats17_2013_10_1/Brats17_2013_10_1_t2.nii.gz   \n",
       "Brats17_2013_11_1  HGG/Brats17_2013_11_1/Brats17_2013_11_1_t2.nii.gz   \n",
       "Brats17_2013_12_1  HGG/Brats17_2013_12_1/Brats17_2013_12_1_t2.nii.gz   \n",
       "Brats17_2013_13_1  HGG/Brats17_2013_13_1/Brats17_2013_13_1_t2.nii.gz   \n",
       "\n",
       "                                                               flair  \\\n",
       "id                                                                     \n",
       "Brats17_2013_0_1   LGG/Brats17_2013_0_1/Brats17_2013_0_1_flair.ni...   \n",
       "Brats17_2013_10_1  HGG/Brats17_2013_10_1/Brats17_2013_10_1_flair....   \n",
       "Brats17_2013_11_1  HGG/Brats17_2013_11_1/Brats17_2013_11_1_flair....   \n",
       "Brats17_2013_12_1  HGG/Brats17_2013_12_1/Brats17_2013_12_1_flair....   \n",
       "Brats17_2013_13_1  HGG/Brats17_2013_13_1/Brats17_2013_13_1_flair....   \n",
       "\n",
       "                                                                segm  \n",
       "id                                                                    \n",
       "Brats17_2013_0_1    LGG/Brats17_2013_0_1/Brats17_2013_0_1_seg.nii.gz  \n",
       "Brats17_2013_10_1  HGG/Brats17_2013_10_1/Brats17_2013_10_1_seg.ni...  \n",
       "Brats17_2013_11_1  HGG/Brats17_2013_11_1/Brats17_2013_11_1_seg.ni...  \n",
       "Brats17_2013_12_1  HGG/Brats17_2013_12_1/Brats17_2013_12_1_seg.ni...  \n",
       "Brats17_2013_13_1  HGG/Brats17_2013_13_1/Brats17_2013_13_1_seg.ni...  "
      ]
     },
     "execution_count": 4,
     "metadata": {},
     "output_type": "execute_result"
    }
   ],
   "source": [
    "df = dataset.df\n",
    "df.head()"
   ]
  },
  {
   "cell_type": "markdown",
   "metadata": {},
   "source": [
    "To get the indices we can use the property **ids**:"
   ]
  },
  {
   "cell_type": "code",
   "execution_count": 5,
   "metadata": {
    "scrolled": true
   },
   "outputs": [
    {
     "data": {
      "text/plain": [
       "['Brats17_2013_0_1',\n",
       " 'Brats17_2013_10_1',\n",
       " 'Brats17_2013_11_1',\n",
       " 'Brats17_2013_12_1']"
      ]
     },
     "execution_count": 5,
     "metadata": {},
     "output_type": "execute_result"
    }
   ],
   "source": [
    "dataset.ids[:4]"
   ]
  },
  {
   "cell_type": "markdown",
   "metadata": {},
   "source": [
    "Names of columns with modalities in the dataset:"
   ]
  },
  {
   "cell_type": "code",
   "execution_count": 6,
   "metadata": {},
   "outputs": [
    {
     "data": {
      "text/plain": [
       "['t1', 't1ce', 't2', 'flair']"
      ]
     },
     "execution_count": 6,
     "metadata": {},
     "output_type": "execute_result"
    }
   ],
   "source": [
    "dataset.modality_cols"
   ]
  },
  {
   "cell_type": "markdown",
   "metadata": {},
   "source": [
    "The number of channel (modalities) in the given dataset, returns `len(['t1', 't1ce', 't2', 'flair'])`"
   ]
  },
  {
   "cell_type": "code",
   "execution_count": 7,
   "metadata": {},
   "outputs": [
    {
     "data": {
      "text/plain": [
       "4"
      ]
     },
     "execution_count": 7,
     "metadata": {},
     "output_type": "execute_result"
    }
   ],
   "source": [
    "dataset.n_chans_image"
   ]
  },
  {
   "cell_type": "markdown",
   "metadata": {},
   "source": [
    "Name of target column:"
   ]
  },
  {
   "cell_type": "code",
   "execution_count": 8,
   "metadata": {},
   "outputs": [
    {
     "data": {
      "text/plain": [
       "'segm'"
      ]
     },
     "execution_count": 8,
     "metadata": {},
     "output_type": "execute_result"
    }
   ],
   "source": [
    "dataset.target_col"
   ]
  },
  {
   "cell_type": "markdown",
   "metadata": {},
   "source": [
    "### Load the images:"
   ]
  },
  {
   "cell_type": "markdown",
   "metadata": {},
   "source": [
    "We can load the images for a certain patient using the `load_image(patient_id)` method:"
   ]
  },
  {
   "cell_type": "code",
   "execution_count": 9,
   "metadata": {},
   "outputs": [
    {
     "name": "stdout",
     "output_type": "stream",
     "text": [
      "Shape of the image:  (4, 240, 240, 155)\n"
     ]
    }
   ],
   "source": [
    "patient_id = 'Brats17_2013_12_1'\n",
    "img = dataset.load_image(patient_id)\n",
    "print('Shape of the image: ', img.shape)"
   ]
  },
  {
   "cell_type": "markdown",
   "metadata": {},
   "source": [
    "To visualize the images we will use some awesome function `slice3d`. Let's firstly import it:"
   ]
  },
  {
   "cell_type": "code",
   "execution_count": 10,
   "metadata": {
    "collapsed": true
   },
   "outputs": [],
   "source": [
    "from dpipe.medim.visualize import slice3d"
   ]
  },
  {
   "cell_type": "markdown",
   "metadata": {},
   "source": [
    "We can plot all modalities as follows:"
   ]
  },
  {
   "cell_type": "code",
   "execution_count": 11,
   "metadata": {
    "scrolled": false
   },
   "outputs": [
    {
     "data": {
      "application/vnd.jupyter.widget-view+json": {
       "model_id": "8bd82e37db574660b792fb283ef1f41c",
       "version_major": 2,
       "version_minor": 0
      },
      "text/plain": [
       "A Jupyter Widget"
      ]
     },
     "metadata": {},
     "output_type": "display_data"
    }
   ],
   "source": [
    "slice3d(*img, axis=-1, fig_size=5, max_columns=None, colorbar=False)"
   ]
  },
  {
   "cell_type": "markdown",
   "metadata": {},
   "source": [
    "Or plot only certain ones:"
   ]
  },
  {
   "cell_type": "code",
   "execution_count": 12,
   "metadata": {},
   "outputs": [
    {
     "data": {
      "application/vnd.jupyter.widget-view+json": {
       "model_id": "7b8405f6bdd34d0583aa47a27e086bea",
       "version_major": 2,
       "version_minor": 0
      },
      "text/plain": [
       "A Jupyter Widget"
      ]
     },
     "metadata": {},
     "output_type": "display_data"
    }
   ],
   "source": [
    "slice3d(img[0], img[2], axis=-1, fig_size=4, max_columns=None, colorbar=False)"
   ]
  },
  {
   "cell_type": "markdown",
   "metadata": {},
   "source": [
    "### Load the segmented images:"
   ]
  },
  {
   "cell_type": "markdown",
   "metadata": {},
   "source": [
    "We can load the segmented image by the `load_segm(patient_id)` method:"
   ]
  },
  {
   "cell_type": "code",
   "execution_count": 13,
   "metadata": {},
   "outputs": [
    {
     "name": "stdout",
     "output_type": "stream",
     "text": [
      "Shape of the segmented image:  (240, 240, 155)\n"
     ]
    }
   ],
   "source": [
    "segm_img = dataset.load_segm(patient_id)\n",
    "print('Shape of the segmented image: ', segm_img.shape)"
   ]
  },
  {
   "cell_type": "code",
   "execution_count": 14,
   "metadata": {},
   "outputs": [
    {
     "data": {
      "text/plain": [
       "4"
      ]
     },
     "execution_count": 14,
     "metadata": {},
     "output_type": "execute_result"
    }
   ],
   "source": [
    "# the number of diffent segmentation madalities (0 - black)\n",
    "dataset.n_chans_segm"
   ]
  },
  {
   "cell_type": "markdown",
   "metadata": {},
   "source": [
    "The segmentation is normally coded by integer numbers, i.e. an integer is assigned for each voxel. For example, in Brats2017, there are 4 such integers: (0) - healthy tissue, (1) - dead core of cancer, (2) - living core of cancer, (3) - inflamed tissue. Take a look:"
   ]
  },
  {
   "cell_type": "code",
   "execution_count": 15,
   "metadata": {},
   "outputs": [
    {
     "data": {
      "application/vnd.jupyter.widget-view+json": {
       "model_id": "0a65273d53114d6e9790472e817dab6a",
       "version_major": 2,
       "version_minor": 0
      },
      "text/plain": [
       "A Jupyter Widget"
      ]
     },
     "metadata": {},
     "output_type": "display_data"
    }
   ],
   "source": [
    "slice3d(segm_img, fig_size=5, colorbar=True)"
   ]
  },
  {
   "cell_type": "markdown",
   "metadata": {},
   "source": [
    "The task is to find three binary masks: the whole cancer (1+2+3), core of cancer (1+2) and inflamed tissue (3). The quality metrics are computed using each of the masks independently. Thus, we might want to get these masks from the segmented image."
   ]
  },
  {
   "cell_type": "markdown",
   "metadata": {},
   "source": [
    "We can load the multimodal segmented image by the `load_msegm(patient_id)` method. It returns multimodal segmentation of shape [n_chans_msegm, x, y, z]."
   ]
  },
  {
   "cell_type": "code",
   "execution_count": 16,
   "metadata": {},
   "outputs": [
    {
     "name": "stdout",
     "output_type": "stream",
     "text": [
      "Shape of the multimodal segmented image:  (3, 240, 240, 155)\n"
     ]
    }
   ],
   "source": [
    "msegm_img = dataset.load_msegm(patient_id)\n",
    "print('Shape of the multimodal segmented image: ', msegm_img.shape)"
   ]
  },
  {
   "cell_type": "code",
   "execution_count": 17,
   "metadata": {},
   "outputs": [
    {
     "data": {
      "application/vnd.jupyter.widget-view+json": {
       "model_id": "54dfb296cc3245c28151db88a8df4abc",
       "version_major": 2,
       "version_minor": 0
      },
      "text/plain": [
       "A Jupyter Widget"
      ]
     },
     "metadata": {},
     "output_type": "display_data"
    }
   ],
   "source": [
    "slice3d(*msegm_img, fig_size=5, colorbar=True)"
   ]
  },
  {
   "cell_type": "markdown",
   "metadata": {},
   "source": [
    "To convert images coded by ints into separate binary masks, the segm2msegm matrix is used. The rows correspond to segmented image, whereas the columns - to multimodal segmented image:"
   ]
  },
  {
   "cell_type": "code",
   "execution_count": 18,
   "metadata": {},
   "outputs": [
    {
     "data": {
      "text/plain": [
       "array([[False, False, False],\n",
       "       [ True,  True, False],\n",
       "       [ True, False, False],\n",
       "       [ True,  True,  True]], dtype=bool)"
      ]
     },
     "execution_count": 18,
     "metadata": {},
     "output_type": "execute_result"
    }
   ],
   "source": [
    "dataset.segm2msegm_matrix"
   ]
  },
  {
   "cell_type": "markdown",
   "metadata": {},
   "source": [
    "We can also transfer arbitrary image into binary masks using `segm2msegm` method:"
   ]
  },
  {
   "cell_type": "code",
   "execution_count": 19,
   "metadata": {},
   "outputs": [
    {
     "name": "stdout",
     "output_type": "stream",
     "text": [
      "Shape:  (3, 240, 240, 155)\n"
     ]
    }
   ],
   "source": [
    "msegm_img = dataset.segm2msegm(segm_img)\n",
    "print('Shape: ', dataset.segm2msegm(segm_img).shape)"
   ]
  }
 ],
 "metadata": {
  "kernelspec": {
   "display_name": "Python 3",
   "language": "python",
   "name": "python3"
  },
  "language_info": {
   "codemirror_mode": {
    "name": "ipython",
    "version": 3
   },
   "file_extension": ".py",
   "mimetype": "text/x-python",
   "name": "python",
   "nbconvert_exporter": "python",
   "pygments_lexer": "ipython3",
   "version": "3.6.3"
  }
 },
 "nbformat": 4,
 "nbformat_minor": 2
}
